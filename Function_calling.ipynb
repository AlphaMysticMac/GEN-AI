{
  "cells": [
    {
      "cell_type": "markdown",
      "metadata": {
        "colab_type": "text",
        "id": "view-in-github"
      },
      "source": [
        "<a href=\"https://colab.research.google.com/github/AlphaMysticMac/GEN-AI/blob/main/Function_calling.ipynb\" target=\"_parent\"><img src=\"https://colab.research.google.com/assets/colab-badge.svg\" alt=\"Open In Colab\"/></a>"
      ]
    },
    {
      "cell_type": "code",
      "execution_count": 1,
      "metadata": {
        "id": "CiQoouJRaOw6"
      },
      "outputs": [],
      "source": [
        "#!pip install dotenv"
      ]
    },
    {
      "cell_type": "code",
      "execution_count": 2,
      "metadata": {
        "id": "WwFWWpjuZylh"
      },
      "outputs": [],
      "source": [
        "import os\n",
        "import openai\n",
        "import json\n",
        "from dotenv import load_dotenv, find_dotenv\n",
        "_ = load_dotenv(find_dotenv()) # read local .env file\n",
        "openai.api_key = os.environ['OPENAI_API_KEY']"
      ]
    },
    {
      "cell_type": "code",
      "execution_count": 3,
      "metadata": {
        "colab": {
          "base_uri": "https://localhost:8080/"
        },
        "id": "d7xQeMdWaBpq",
        "outputId": "ebe6971c-33a5-415a-c347-52f2c5a87858"
      },
      "outputs": [
        {
          "data": {
            "text/plain": [
              "['.env',\n",
              " '.git',\n",
              " '.gitignore',\n",
              " 'Function_calling.ipynb',\n",
              " 'LCEL_AND_THE_TYPES with pydantic functions.ipynb',\n",
              " 'LCEL_AND_THE_TYPES.ipynb',\n",
              " 'README.md']"
            ]
          },
          "execution_count": 3,
          "metadata": {},
          "output_type": "execute_result"
        }
      ],
      "source": [
        "os.listdir()"
      ]
    },
    {
      "cell_type": "code",
      "execution_count": 4,
      "metadata": {
        "id": "N6kD4MVqaKsa"
      },
      "outputs": [],
      "source": [
        "def english_league(team):\n",
        "  \"get the details of premierleague team for the current season\"\n",
        "  stats = {\n",
        "      \"team_name\" : team,\n",
        "      \"points\" : 54,\n",
        "      \"position\"  : '5th',\n",
        "      \"players\" : \"foden,kevin,haaland,bernado\"\n",
        "  }\n",
        "  return json.dumps(stats)"
      ]
    },
    {
      "cell_type": "code",
      "execution_count": 5,
      "metadata": {
        "id": "9QKjGLDpbh68"
      },
      "outputs": [],
      "source": [
        "# define a function\n",
        "functions = [\n",
        "    {\n",
        "        \"name\": \"english_league\",\n",
        "        \"description\": \"get the details of premierleague team for the current season\",\n",
        "        \"parameters\": {\n",
        "            \"type\": \"object\",\n",
        "            \"properties\": {\n",
        "                \"team\": {\n",
        "                    \"type\": \"string\",\n",
        "                    \"description\": \"team name eg. liverpool\",\n",
        "                }},\n",
        "            \"required\": [\"team\"],\n",
        "        },\n",
        "    }\n",
        "]"
      ]
    },
    {
      "cell_type": "code",
      "execution_count": 7,
      "metadata": {
        "id": "zM76nle3eOco"
      },
      "outputs": [],
      "source": [
        "messages = [\n",
        "    {\n",
        "        \"role\": \"user\",\n",
        "        \"content\": \"give me the details for manchester city football club\"\n",
        "    }\n",
        "]"
      ]
    },
    {
      "cell_type": "code",
      "execution_count": 8,
      "metadata": {
        "id": "lyXEOmKJebgR"
      },
      "outputs": [],
      "source": [
        "# Call the ChatCompletion endpoint\n",
        "response = openai.ChatCompletion.create(\n",
        "    # OpenAI Updates: As of June 2024, we are now using the GPT-3.5-Turbo model\n",
        "    model=\"gpt-3.5-turbo\",\n",
        "    messages=messages,\n",
        "    functions=functions\n",
        ")"
      ]
    },
    {
      "cell_type": "code",
      "execution_count": 9,
      "metadata": {
        "id": "Jd8VNwIfeeXh"
      },
      "outputs": [],
      "source": [
        "#!pip install openai==0.28"
      ]
    },
    {
      "cell_type": "code",
      "execution_count": 10,
      "metadata": {
        "colab": {
          "base_uri": "https://localhost:8080/"
        },
        "id": "fCeFLgB7esDS",
        "outputId": "c4b32a4f-6ba3-408b-ae38-e28a1e2d62d6"
      },
      "outputs": [
        {
          "name": "stdout",
          "output_type": "stream",
          "text": [
            "{\n",
            "  \"id\": \"chatcmpl-BHrRmYtDpjVJVi8YnYPkcdBmSro8V\",\n",
            "  \"object\": \"chat.completion\",\n",
            "  \"created\": 1743596726,\n",
            "  \"model\": \"gpt-3.5-turbo-0125\",\n",
            "  \"choices\": [\n",
            "    {\n",
            "      \"index\": 0,\n",
            "      \"message\": {\n",
            "        \"role\": \"assistant\",\n",
            "        \"content\": null,\n",
            "        \"function_call\": {\n",
            "          \"name\": \"english_league\",\n",
            "          \"arguments\": \"{\\\"team\\\":\\\"manchester city\\\"}\"\n",
            "        },\n",
            "        \"refusal\": null,\n",
            "        \"annotations\": []\n",
            "      },\n",
            "      \"logprobs\": null,\n",
            "      \"finish_reason\": \"function_call\"\n",
            "    }\n",
            "  ],\n",
            "  \"usage\": {\n",
            "    \"prompt_tokens\": 70,\n",
            "    \"completion_tokens\": 19,\n",
            "    \"total_tokens\": 89,\n",
            "    \"prompt_tokens_details\": {\n",
            "      \"cached_tokens\": 0,\n",
            "      \"audio_tokens\": 0\n",
            "    },\n",
            "    \"completion_tokens_details\": {\n",
            "      \"reasoning_tokens\": 0,\n",
            "      \"audio_tokens\": 0,\n",
            "      \"accepted_prediction_tokens\": 0,\n",
            "      \"rejected_prediction_tokens\": 0\n",
            "    }\n",
            "  },\n",
            "  \"service_tier\": \"default\",\n",
            "  \"system_fingerprint\": null\n",
            "}\n"
          ]
        }
      ],
      "source": [
        "print(response)"
      ]
    },
    {
      "cell_type": "code",
      "execution_count": 11,
      "metadata": {
        "id": "tj_LLc4llUty"
      },
      "outputs": [],
      "source": [
        "response_message = response[\"choices\"][0][\"message\"]"
      ]
    },
    {
      "cell_type": "code",
      "execution_count": 12,
      "metadata": {
        "colab": {
          "base_uri": "https://localhost:8080/"
        },
        "id": "jjIUCUE5ldTt",
        "outputId": "1673b1fa-8a86-4298-95ff-c5995a4e095e"
      },
      "outputs": [
        {
          "data": {
            "text/plain": [
              "<OpenAIObject at 0x2777ed09bd0> JSON: {\n",
              "  \"role\": \"assistant\",\n",
              "  \"content\": null,\n",
              "  \"function_call\": {\n",
              "    \"name\": \"english_league\",\n",
              "    \"arguments\": \"{\\\"team\\\":\\\"manchester city\\\"}\"\n",
              "  },\n",
              "  \"refusal\": null,\n",
              "  \"annotations\": []\n",
              "}"
            ]
          },
          "execution_count": 12,
          "metadata": {},
          "output_type": "execute_result"
        }
      ],
      "source": [
        "response_message"
      ]
    },
    {
      "cell_type": "code",
      "execution_count": 13,
      "metadata": {
        "id": "oy2kzjQOletb"
      },
      "outputs": [],
      "source": [
        "response_message[\"content\"]"
      ]
    },
    {
      "cell_type": "code",
      "execution_count": 14,
      "metadata": {
        "colab": {
          "base_uri": "https://localhost:8080/"
        },
        "id": "jHHgl5Sxli7D",
        "outputId": "7f6e0468-3f68-40e6-bb44-0d96ca57831b"
      },
      "outputs": [
        {
          "data": {
            "text/plain": [
              "<OpenAIObject at 0x2777ed0a1c0> JSON: {\n",
              "  \"name\": \"english_league\",\n",
              "  \"arguments\": \"{\\\"team\\\":\\\"manchester city\\\"}\"\n",
              "}"
            ]
          },
          "execution_count": 14,
          "metadata": {},
          "output_type": "execute_result"
        }
      ],
      "source": [
        "response_message[\"function_call\"]"
      ]
    },
    {
      "cell_type": "code",
      "execution_count": 15,
      "metadata": {
        "colab": {
          "base_uri": "https://localhost:8080/"
        },
        "id": "QPt5-HtMnA9_",
        "outputId": "42a45f05-5caa-44c7-8fe5-d5d34eefc956"
      },
      "outputs": [
        {
          "data": {
            "text/plain": [
              "{'team': 'manchester city'}"
            ]
          },
          "execution_count": 15,
          "metadata": {},
          "output_type": "execute_result"
        }
      ],
      "source": [
        "json.loads(response_message[\"function_call\"][\"arguments\"])"
      ]
    },
    {
      "cell_type": "code",
      "execution_count": 16,
      "metadata": {
        "id": "4UmnKwqknDwW"
      },
      "outputs": [],
      "source": [
        "args = json.loads(response_message[\"function_call\"][\"arguments\"])"
      ]
    },
    {
      "cell_type": "code",
      "execution_count": 17,
      "metadata": {
        "colab": {
          "base_uri": "https://localhost:8080/"
        },
        "id": "rtSW6rKznRCC",
        "outputId": "f07df609-8448-4b34-9d19-1cc5aa333b44"
      },
      "outputs": [
        {
          "data": {
            "text/plain": [
              "{'team': 'manchester city'}"
            ]
          },
          "execution_count": 17,
          "metadata": {},
          "output_type": "execute_result"
        }
      ],
      "source": [
        "args"
      ]
    },
    {
      "cell_type": "code",
      "execution_count": 18,
      "metadata": {
        "colab": {
          "base_uri": "https://localhost:8080/",
          "height": 35
        },
        "id": "pq5ImcfpnIGn",
        "outputId": "a295ae25-bd06-4247-bb89-5c18f24261ce"
      },
      "outputs": [
        {
          "data": {
            "text/plain": [
              "'{\"team_name\": {\"team\": \"manchester city\"}, \"points\": 54, \"position\": \"5th\", \"players\": \"foden,kevin,haaland,bernado\"}'"
            ]
          },
          "execution_count": 18,
          "metadata": {},
          "output_type": "execute_result"
        }
      ],
      "source": [
        "english_league(args)"
      ]
    },
    {
      "cell_type": "code",
      "execution_count": null,
      "metadata": {
        "id": "-Sq3YjVAnKHv"
      },
      "outputs": [],
      "source": []
    },
    {
      "cell_type": "code",
      "execution_count": null,
      "metadata": {
        "id": "exy-FDeBnxYd"
      },
      "outputs": [],
      "source": []
    }
  ],
  "metadata": {
    "colab": {
      "authorship_tag": "ABX9TyPrsnUTlQOKUNv4EVB3dp95",
      "include_colab_link": true,
      "provenance": []
    },
    "kernelspec": {
      "display_name": "gen_ai",
      "language": "python",
      "name": "python3"
    },
    "language_info": {
      "codemirror_mode": {
        "name": "ipython",
        "version": 3
      },
      "file_extension": ".py",
      "mimetype": "text/x-python",
      "name": "python",
      "nbconvert_exporter": "python",
      "pygments_lexer": "ipython3",
      "version": "3.12.0"
    }
  },
  "nbformat": 4,
  "nbformat_minor": 0
}
