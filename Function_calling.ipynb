{
  "nbformat": 4,
  "nbformat_minor": 0,
  "metadata": {
    "colab": {
      "provenance": [],
      "authorship_tag": "ABX9TyPrsnUTlQOKUNv4EVB3dp95",
      "include_colab_link": true
    },
    "kernelspec": {
      "name": "python3",
      "display_name": "Python 3"
    },
    "language_info": {
      "name": "python"
    }
  },
  "cells": [
    {
      "cell_type": "markdown",
      "metadata": {
        "id": "view-in-github",
        "colab_type": "text"
      },
      "source": [
        "<a href=\"https://colab.research.google.com/github/AlphaMysticMac/GEN-AI/blob/main/Function_calling.ipynb\" target=\"_parent\"><img src=\"https://colab.research.google.com/assets/colab-badge.svg\" alt=\"Open In Colab\"/></a>"
      ]
    },
    {
      "cell_type": "code",
      "source": [
        "#!pip install dotenv"
      ],
      "metadata": {
        "id": "CiQoouJRaOw6"
      },
      "execution_count": 1,
      "outputs": []
    },
    {
      "cell_type": "code",
      "execution_count": 13,
      "metadata": {
        "id": "WwFWWpjuZylh"
      },
      "outputs": [],
      "source": [
        "import os\n",
        "import openai\n",
        "import json\n",
        "from dotenv import load_dotenv, find_dotenv\n",
        "_ = load_dotenv(find_dotenv()) # read local .env file\n",
        "openai.api_key = os.environ['OPENAI_API_KEY']"
      ]
    },
    {
      "cell_type": "code",
      "source": [
        "os.listdir()"
      ],
      "metadata": {
        "colab": {
          "base_uri": "https://localhost:8080/"
        },
        "id": "d7xQeMdWaBpq",
        "outputId": "ebe6971c-33a5-415a-c347-52f2c5a87858"
      },
      "execution_count": 14,
      "outputs": [
        {
          "output_type": "execute_result",
          "data": {
            "text/plain": [
              "['.config', '.env', '.ipynb_checkpoints', 'sample_data']"
            ]
          },
          "metadata": {},
          "execution_count": 14
        }
      ]
    },
    {
      "cell_type": "code",
      "source": [
        "def english_league(team):\n",
        "  \"get the details of premierleague team for the current season\"\n",
        "  stats = {\n",
        "      \"team_name\" : team,\n",
        "      \"points\" : 54,\n",
        "      \"position\"  : '5th',\n",
        "      \"players\" : \"foden,kevin,haaland,bernado\"\n",
        "  }\n",
        "  return json.dumps(stats)"
      ],
      "metadata": {
        "id": "N6kD4MVqaKsa"
      },
      "execution_count": 56,
      "outputs": []
    },
    {
      "cell_type": "code",
      "source": [
        "# define a function\n",
        "functions = [\n",
        "    {\n",
        "        \"name\": \"english_league\",\n",
        "        \"description\": \"get the details of premierleague team for the current season\",\n",
        "        \"parameters\": {\n",
        "            \"type\": \"object\",\n",
        "            \"properties\": {\n",
        "                \"team\": {\n",
        "                    \"type\": \"string\",\n",
        "                    \"description\": \"team name eg. liverpool\",\n",
        "                }},\n",
        "            \"required\": [\"team\"],\n",
        "        },\n",
        "    }\n",
        "]"
      ],
      "metadata": {
        "id": "9QKjGLDpbh68"
      },
      "execution_count": 57,
      "outputs": []
    },
    {
      "cell_type": "code",
      "source": [
        "  messages = [\n",
        "    {\n",
        "        \"role\": \"user\",\n",
        "        \"content\": \"give me the details for manchester city football club\"\n",
        "    }\n",
        "]"
      ],
      "metadata": {
        "id": "zM76nle3eOco"
      },
      "execution_count": 58,
      "outputs": []
    },
    {
      "cell_type": "code",
      "source": [
        "# Call the ChatCompletion endpoint\n",
        "response = openai.ChatCompletion.create(\n",
        "    # OpenAI Updates: As of June 2024, we are now using the GPT-3.5-Turbo model\n",
        "    model=\"gpt-3.5-turbo\",\n",
        "    messages=messages,\n",
        "    functions=functions\n",
        ")"
      ],
      "metadata": {
        "id": "lyXEOmKJebgR"
      },
      "execution_count": 59,
      "outputs": []
    },
    {
      "cell_type": "code",
      "source": [
        "#!pip install openai==0.28"
      ],
      "metadata": {
        "id": "Jd8VNwIfeeXh"
      },
      "execution_count": 60,
      "outputs": []
    },
    {
      "cell_type": "code",
      "source": [
        "print(response)"
      ],
      "metadata": {
        "colab": {
          "base_uri": "https://localhost:8080/"
        },
        "id": "fCeFLgB7esDS",
        "outputId": "c4b32a4f-6ba3-408b-ae38-e28a1e2d62d6"
      },
      "execution_count": 61,
      "outputs": [
        {
          "output_type": "stream",
          "name": "stdout",
          "text": [
            "{\n",
            "  \"id\": \"chatcmpl-BGoeyA37Mr0pPVHgUWGkEXxtqJ8hv\",\n",
            "  \"object\": \"chat.completion\",\n",
            "  \"created\": 1743347684,\n",
            "  \"model\": \"gpt-3.5-turbo-0125\",\n",
            "  \"choices\": [\n",
            "    {\n",
            "      \"index\": 0,\n",
            "      \"message\": {\n",
            "        \"role\": \"assistant\",\n",
            "        \"content\": null,\n",
            "        \"function_call\": {\n",
            "          \"name\": \"english_league\",\n",
            "          \"arguments\": \"{\\\"team\\\":\\\"manchester city\\\"}\"\n",
            "        },\n",
            "        \"refusal\": null,\n",
            "        \"annotations\": []\n",
            "      },\n",
            "      \"logprobs\": null,\n",
            "      \"finish_reason\": \"function_call\"\n",
            "    }\n",
            "  ],\n",
            "  \"usage\": {\n",
            "    \"prompt_tokens\": 70,\n",
            "    \"completion_tokens\": 19,\n",
            "    \"total_tokens\": 89,\n",
            "    \"prompt_tokens_details\": {\n",
            "      \"cached_tokens\": 0,\n",
            "      \"audio_tokens\": 0\n",
            "    },\n",
            "    \"completion_tokens_details\": {\n",
            "      \"reasoning_tokens\": 0,\n",
            "      \"audio_tokens\": 0,\n",
            "      \"accepted_prediction_tokens\": 0,\n",
            "      \"rejected_prediction_tokens\": 0\n",
            "    }\n",
            "  },\n",
            "  \"service_tier\": \"default\",\n",
            "  \"system_fingerprint\": null\n",
            "}\n"
          ]
        }
      ]
    },
    {
      "cell_type": "code",
      "source": [
        "response_message = response[\"choices\"][0][\"message\"]"
      ],
      "metadata": {
        "id": "tj_LLc4llUty"
      },
      "execution_count": 62,
      "outputs": []
    },
    {
      "cell_type": "code",
      "source": [
        "response_message"
      ],
      "metadata": {
        "colab": {
          "base_uri": "https://localhost:8080/"
        },
        "id": "jjIUCUE5ldTt",
        "outputId": "1673b1fa-8a86-4298-95ff-c5995a4e095e"
      },
      "execution_count": 63,
      "outputs": [
        {
          "output_type": "execute_result",
          "data": {
            "text/plain": [
              "<OpenAIObject at 0x79531ada8b90> JSON: {\n",
              "  \"role\": \"assistant\",\n",
              "  \"content\": null,\n",
              "  \"function_call\": {\n",
              "    \"name\": \"english_league\",\n",
              "    \"arguments\": \"{\\\"team\\\":\\\"manchester city\\\"}\"\n",
              "  },\n",
              "  \"refusal\": null,\n",
              "  \"annotations\": []\n",
              "}"
            ]
          },
          "metadata": {},
          "execution_count": 63
        }
      ]
    },
    {
      "cell_type": "code",
      "source": [
        "response_message[\"content\"]"
      ],
      "metadata": {
        "id": "oy2kzjQOletb"
      },
      "execution_count": 64,
      "outputs": []
    },
    {
      "cell_type": "code",
      "source": [
        "response_message[\"function_call\"]"
      ],
      "metadata": {
        "colab": {
          "base_uri": "https://localhost:8080/"
        },
        "id": "jHHgl5Sxli7D",
        "outputId": "7f6e0468-3f68-40e6-bb44-0d96ca57831b"
      },
      "execution_count": 65,
      "outputs": [
        {
          "output_type": "execute_result",
          "data": {
            "text/plain": [
              "<OpenAIObject at 0x79531ada9b50> JSON: {\n",
              "  \"name\": \"english_league\",\n",
              "  \"arguments\": \"{\\\"team\\\":\\\"manchester city\\\"}\"\n",
              "}"
            ]
          },
          "metadata": {},
          "execution_count": 65
        }
      ]
    },
    {
      "cell_type": "code",
      "source": [
        "json.loads(response_message[\"function_call\"][\"arguments\"])"
      ],
      "metadata": {
        "colab": {
          "base_uri": "https://localhost:8080/"
        },
        "id": "QPt5-HtMnA9_",
        "outputId": "42a45f05-5caa-44c7-8fe5-d5d34eefc956"
      },
      "execution_count": 66,
      "outputs": [
        {
          "output_type": "execute_result",
          "data": {
            "text/plain": [
              "{'team': 'manchester city'}"
            ]
          },
          "metadata": {},
          "execution_count": 66
        }
      ]
    },
    {
      "cell_type": "code",
      "source": [
        "args = json.loads(response_message[\"function_call\"][\"arguments\"])"
      ],
      "metadata": {
        "id": "4UmnKwqknDwW"
      },
      "execution_count": 67,
      "outputs": []
    },
    {
      "cell_type": "code",
      "source": [
        "args"
      ],
      "metadata": {
        "colab": {
          "base_uri": "https://localhost:8080/"
        },
        "id": "rtSW6rKznRCC",
        "outputId": "f07df609-8448-4b34-9d19-1cc5aa333b44"
      },
      "execution_count": 68,
      "outputs": [
        {
          "output_type": "execute_result",
          "data": {
            "text/plain": [
              "{'team': 'manchester city'}"
            ]
          },
          "metadata": {},
          "execution_count": 68
        }
      ]
    },
    {
      "cell_type": "code",
      "source": [
        "english_league(args)"
      ],
      "metadata": {
        "colab": {
          "base_uri": "https://localhost:8080/",
          "height": 35
        },
        "id": "pq5ImcfpnIGn",
        "outputId": "a295ae25-bd06-4247-bb89-5c18f24261ce"
      },
      "execution_count": 69,
      "outputs": [
        {
          "output_type": "execute_result",
          "data": {
            "text/plain": [
              "'{\"team_name\": {\"team\": \"manchester city\"}, \"points\": 54, \"position\": \"5th\", \"players\": \"foden,kevin,haaland,bernado\"}'"
            ],
            "application/vnd.google.colaboratory.intrinsic+json": {
              "type": "string"
            }
          },
          "metadata": {},
          "execution_count": 69
        }
      ]
    },
    {
      "cell_type": "code",
      "source": [],
      "metadata": {
        "id": "-Sq3YjVAnKHv"
      },
      "execution_count": 70,
      "outputs": []
    },
    {
      "cell_type": "code",
      "source": [],
      "metadata": {
        "id": "exy-FDeBnxYd"
      },
      "execution_count": null,
      "outputs": []
    }
  ]
}